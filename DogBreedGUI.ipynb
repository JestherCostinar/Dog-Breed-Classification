{
  "cells": [
    {
      "cell_type": "markdown",
      "metadata": {
        "id": "FgzLRgDCOMTQ"
      },
      "source": [
        "\n",
        "###**Dog Breed Classification : Tuning and Optimization Implementation**\n",
        "<br>\n",
        "\n",
        "\n",
        "\n",
        "####**Neural Network Model Used:**\n",
        "\n",
        "```\n",
        "Convolutional Neural Network\n",
        "\n",
        "```\n",
        "\n",
        "\n",
        "\n",
        "> **Raw images** - indicated the input image that is use to processed to make it resize and grey scale.\n",
        "\n",
        "> **Processed images** - are the images that are process from raw images.\n",
        "\n",
        "\n",
        "\n",
        "\n",
        "\n"
      ]
    },
    {
      "cell_type": "markdown",
      "metadata": {
        "id": "9iK0QXMHPwWL"
      },
      "source": [
        "***Note:*** Prior to running the program below, make sure that:\n",
        "1. You have already trained a CNN-based prediction model either using GridSearch or Random based \n",
        "technique. \n",
        "2. The trained model is already saved in a hdf5 file format or any other format you want to use \n",
        "3. Replace the CNN architecture defined in the code with the architecture you used for training your \n",
        "prediction model. \n",
        "4. Replace the prediction file (Richie_Project.hdf5) defined in the code with the prediction file you \n",
        "generated in your own training experiment. \n",
        "5. Make sure to modify the sample interface provided with your own interface design. \n",
        "6. Save the file in a separate notebook named testing.ipynb \n",
        "> (The codes and interface design are properties of MORALES, JOHN RICHIE and DE LUNA, ACHILLES \n",
        "REGINALD as part of the final project they submitted in ITC73. They are being provided as templates for \n",
        "educational purposes. You are not allowed to submit the same set of codes and interface design without \n",
        "providing your own modifications on these codes and designs. Doing so will be tantamount to plagiarism)"
      ]
    },
    {
      "cell_type": "markdown",
      "metadata": {
        "id": "dmNBNEfEP98X"
      },
      "source": [
        "**Step 1:** Define you CNN architecture (Architecture must be the same as the one used for training the prediction model.)"
      ]
    },
    {
      "cell_type": "code",
      "execution_count": null,
      "metadata": {
        "id": "lv43D4dMOJ_C",
        "outputId": "bf3df55f-6b5d-4676-9aba-1b6fa7d5cbcd"
      },
      "outputs": [
        {
          "name": "stdout",
          "output_type": "stream",
          "text": [
            "Model: \"sequential_1\"\n",
            "_________________________________________________________________\n",
            "Layer (type)                 Output Shape              Param #   \n",
            "=================================================================\n",
            "conv2d_2 (Conv2D)            (None, 16, 16, 32)        320       \n",
            "_________________________________________________________________\n",
            "activation_4 (Activation)    (None, 16, 16, 32)        0         \n",
            "_________________________________________________________________\n",
            "conv2d_3 (Conv2D)            (None, 5, 5, 32)          9248      \n",
            "_________________________________________________________________\n",
            "activation_5 (Activation)    (None, 5, 5, 32)          0         \n",
            "_________________________________________________________________\n",
            "max_pooling2d_1 (MaxPooling2 (None, 2, 2, 32)          0         \n",
            "_________________________________________________________________\n",
            "dropout_2 (Dropout)          (None, 2, 2, 32)          0         \n",
            "_________________________________________________________________\n",
            "flatten_1 (Flatten)          (None, 128)               0         \n",
            "_________________________________________________________________\n",
            "dense_2 (Dense)              (None, 128)               16512     \n",
            "_________________________________________________________________\n",
            "activation_6 (Activation)    (None, 128)               0         \n",
            "_________________________________________________________________\n",
            "dropout_3 (Dropout)          (None, 128)               0         \n",
            "_________________________________________________________________\n",
            "dense_3 (Dense)              (None, 3)                 387       \n",
            "_________________________________________________________________\n",
            "activation_7 (Activation)    (None, 3)                 0         \n",
            "=================================================================\n",
            "Total params: 26,467\n",
            "Trainable params: 26,467\n",
            "Non-trainable params: 0\n",
            "_________________________________________________________________\n"
          ]
        }
      ],
      "source": [
        "#MODEL\n",
        "\n",
        "#A Sequential model is appropriate for a plain stack of layers where each layer has exactly one input tensor and one output tensor.\n",
        "import keras\n",
        "from keras.models import Sequential\n",
        "import tensorflow as tf\n",
        "from tensorflow import keras\n",
        "from tensorflow.keras import layers\n",
        "from keras import backend as K\n",
        "from keras.layers import Lambda, Dense\n",
        "from keras.layers.convolutional import Convolution2D, MaxPooling2D\n",
        "from keras.layers.core import Dense,Dropout,Activation,Flatten\n",
        "\n",
        "from tensorflow.keras.optimizers import SGD,RMSprop,Adam,Adadelta\n",
        "from keras.utils import np_utils\n",
        "img_rows, img_cols = 50, 50\n",
        "\n",
        "nb_filters = 32\n",
        "nb_pool = 2\n",
        "nb_conv = 3\n",
        "\n",
        "batch_Size = 35\n",
        "nb_classes = 3\n",
        "nb_epoch = 100\n",
        "\n",
        "\n",
        "#Its layers are accessible via the layers attribute\n",
        "model = tf.keras.Sequential()\n",
        "\n",
        "#You can create a Sequential model by passing a list of layers to the Sequential constructor\n",
        "#You can also create a Sequential model incrementally via the add() method\n",
        "model.add(Convolution2D(nb_filters, nb_conv, nb_conv, input_shape=(img_rows, img_cols, 1))) #, activation = 'relu', data_format=('channels_first))\n",
        "convout1 = Activation('relu')\n",
        "model.add(convout1)\n",
        "model.add(Convolution2D(nb_filters, nb_conv, nb_conv))\n",
        "convout2 = Activation('relu')\n",
        "model.add(convout2)\n",
        "model.add(MaxPooling2D(pool_size=(nb_pool, nb_pool)))\n",
        "model.add(Dropout(0.5))\n",
        "\n",
        "#Activations can either be used through an Activation layer, or through the activation argument supported by all forward layers\n",
        "model.add(Flatten()) #flatten function flattens the multi-dimensional input tensors into a single dimension\n",
        "model.add(Dense(128))\n",
        "model.add(Activation('relu'))\n",
        "model.add(Dropout(0.5)) #Dropout can be applied to input neurons called the visible layer.\n",
        "model.add(Dense(nb_classes))\n",
        "model.add(Activation('softmax'))#Softmax converts a vector of values to a probability distribution.\n",
        "model.summary() #model summary table reports the strength of the relationship between the model and the dependent variable\n",
        "\n",
        "model.compile(optimizer=tf.keras.optimizers.Adam(learning_rate=0.001),\n",
        "              loss = 'categorical_crossentropy',\n",
        "              metrics=['accuracy'])"
      ]
    },
    {
      "cell_type": "markdown",
      "metadata": {
        "id": "afXvT-dqQMrU"
      },
      "source": [
        "**Step 2:** Load and save prediction model file"
      ]
    },
    {
      "cell_type": "code",
      "execution_count": null,
      "metadata": {
        "id": "Se7evizaQPWG"
      },
      "outputs": [],
      "source": [
        "#LOADING MODEL\n",
        "model.load_weights('DogBreedModel.h5')"
      ]
    },
    {
      "cell_type": "markdown",
      "metadata": {
        "id": "d6D5UtoBQPnC"
      },
      "source": [
        "**Step 3:** Execute the prediction GUI for prediction (Accept new images and output category prediction.)"
      ]
    },
    {
      "cell_type": "code",
      "execution_count": null,
      "metadata": {
        "id": "qLp27kWNQTuh",
        "outputId": "01a3056d-f526-485e-f25e-986b20e6f85a"
      },
      "outputs": [
        {
          "name": "stdout",
          "output_type": "stream",
          "text": [
            "C:/Users/Pher/Documents/elective4/Shih Tzu\n"
          ]
        },
        {
          "data": {
            "image/png": "[encoded data removed]",
            "text/plain": [
              "<Figure size 432x288 with 1 Axes>"
            ]
          },
          "metadata": {
            "needs_background": "light"
          },
          "output_type": "display_data"
        }
      ],
      "source": [
        "from PIL import ImageTk, Image #loading Python Imaging Library\n",
        "import PIL.Image\n",
        "import tkinter as tk\n",
        "import tkinter.filedialog\n",
        "import getpass\n",
        "import os\n",
        "import imageio\n",
        "import numpy as np\n",
        "import matplotlib\n",
        "from skimage.transform import resize\n",
        "from skimage import data\n",
        "from skimage import color\n",
        "from skimage import io\n",
        "from matplotlib import pyplot as plt\n",
        "\n",
        "root = tk.Tk() #Create a window\n",
        "user = getpass.getuser() # A simple Python program to demonstrate. Getpass is to read password\n",
        "root.title(\"3J Dog Breed Classification\") #Set Title as Image Loader\n",
        "canvas = tk.Canvas(root, width = 700, height = 450, bg = '#FFFFFF') #Allow Window to be resizable\n",
        "canvas.pack() # packs widgets in rows or columns\n",
        "Header = tk.Label(root, text='Chihuahua', bg = '#EF3743', fg = 'White', font = 'roman 25')\n",
        "canvas.create_window(350, 25, window = Header, width = 1500)\n",
        "Header = tk.Label(root, text='Labrador', bg = '#EF3743', fg = 'White', font = 'roman 25')\n",
        "canvas.create_window(350, 25, window = Header, width = 1500)\n",
        "Header = tk.Label(root, text='Shih tzu', bg = '#EF3743', fg = 'White', font = 'roman 15')\n",
        "canvas.create_window(350, 25, window = Header, width = 1500)\n",
        "\n",
        "def click():\n",
        "  # Get the file\n",
        "    global file\n",
        "    global fileentry\n",
        "    global img\n",
        "    file = tkinter.filedialog.askopenfilename(initialdir='C:/Users/%s' % user)\n",
        "  # split the filepath to get the directory\n",
        "    directory = os.path.split(file)[0]\n",
        "    print(directory)\n",
        "    fileentry = tk.Label(root, text=file, bg = '#EF3743', fg = 'White', font = 'roman 10')\n",
        "    canvas.create_window(350, 315, window = fileentry, width = 1500)\n",
        "    img = Image.open(file) #open method used to open different extension image file\n",
        "    img = img.resize((350, 150))\n",
        "    img = ImageTk.PhotoImage(img)\n",
        "\n",
        "    canvas.create_image(350, 220, image=img)\n",
        "    root.mainloop()\n",
        "    plt.show() #This method will show image in any image viewer \n",
        "    \n",
        "def predict():\n",
        "\n",
        "    img1 = color.rgb2gray(imageio.imread(fileentry.cget(\"text\")))\n",
        "    img1 = resize(img1, (50,50)).astype(np.float32, casting = 'unsafe')\n",
        "    plt.imshow(img1, cmap='gray')\n",
        "    maxidx = model.predict(img1.reshape([-1,50,50,1]))\n",
        "    max_ind = np.array(maxidx)\n",
        "    max_val = max_ind[0, maxidx.argmax()]\n",
        "    i, j = np.unravel_index(maxidx.argmax(), maxidx.shape)\n",
        "\n",
        "    dog = (np.argmax(maxidx[0]))\n",
        "\n",
        "    if dog==0:\n",
        "        strCat = \"Chihuahua\"\n",
        "    elif dog==1:\n",
        "        strCat = \"Labrador\"\n",
        "    elif dog==2:\n",
        "        strCat = \"Shih tzu\"\n",
        "    else:\n",
        "        strCat = \"Not in the category\"\n",
        "    richie = strCat\n",
        "    percent=str(np.round(max_val*100))\n",
        "\n",
        "    label.configure(text=\"\"+percent+\" % \"+ richie)\n",
        "\n",
        "    same=True\n",
        "\n",
        "    n=2\n",
        "\n",
        "    root.mainloop()\n",
        "    plt.show()\n",
        "\n",
        "choose = tk.Button(root, command= click, bg='#EF3743', fg='white',text='        BROWSE        ',font='arial 12 ')\n",
        "canvas.create_window(350, 110, window=choose)\n",
        "\n",
        "#button to call the 'values' command above\n",
        "prediction = tk.Button(root, command= predict, bg='#EF3743', fg='white', text='  PREDICT IMAGE  ', font = \"arial 12 \")\n",
        "canvas.create_window(350, 345, window=prediction)\n",
        "\n",
        "label=tk.Label(root, text=\"                    \", bg = '#EF3743', fg = \"white\", font = \"roman 16 bold \")\n",
        "canvas.create_window(350,400, window=label)\n",
        "\n",
        "root.mainloop()"
      ]
    },
    {
      "cell_type": "code",
      "execution_count": null,
      "metadata": {
        "id": "AR4Q3m0lcxNn"
      },
      "outputs": [],
      "source": [
        ""
      ]
    }
  ],
  "metadata": {
    "colab": {
      "name": "DogBreedGUI.ipynb",
      "provenance": []
    },
    "kernelspec": {
      "display_name": "Python 3 (ipykernel)",
      "language": "python",
      "name": "python3"
    },
    "language_info": {
      "codemirror_mode": {
        "name": "ipython",
        "version": 3
      },
      "file_extension": ".py",
      "mimetype": "text/x-python",
      "name": "python",
      "nbconvert_exporter": "python",
      "pygments_lexer": "ipython3",
      "version": "3.7.11"
    }
  },
  "nbformat": 4,
  "nbformat_minor": 0
}